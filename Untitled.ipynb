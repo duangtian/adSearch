{
 "cells": [
  {
   "cell_type": "code",
   "execution_count": 1,
   "metadata": {},
   "outputs": [],
   "source": [
    "import math\n",
    "def find1(n,x,y):\n",
    "    if n in x:\n",
    "        return x[n]\n",
    "    if n == 1:\n",
    "        return 0\n",
    "    a,b,c = [n,n,n]\n",
    "    \n",
    "    if isinstance(x,dict):\n",
    "        \n",
    "        a = find1(n-1,x,y)\n",
    "        if n%2 ==0:\n",
    "            b = find1(n/2,x,y)\n",
    "        if n%3==0:\n",
    "            c = find1(n/3,x,y)\n",
    "            \n",
    "        min_num = min(a,b,c)+1\n",
    "        \n",
    "        if min_num == a+1:\n",
    "            y[n] = [n-1,'{}\\t-1 = {}'.format(n,n-1)]\n",
    "        elif min_num == b+1:\n",
    "            y[n] = [n/2,'{}\\t/2 = {}'.format(n,n/2)]\n",
    "        elif min_num == c+1:\n",
    "            y[n] = [n/3,'{}\\t/3 = {}'.format(n,n/3)]\n",
    "        \n",
    "\n",
    "        x[n] = min_num\n",
    "            \n",
    "    return min_num"
   ]
  },
  {
   "cell_type": "code",
   "execution_count": 2,
   "metadata": {},
   "outputs": [
    {
     "name": "stdout",
     "output_type": "stream",
     "text": [
      "10000\n",
      "14 \n",
      "\n",
      "10000\t-1 = 9999\n",
      "9999\t/3 = 3333.0\n",
      "3333\t/3 = 1111.0\n",
      "1111\t-1 = 1110\n",
      "1110\t/3 = 370.0\n",
      "370\t-1 = 369\n",
      "369\t/3 = 123.0\n",
      "123\t/3 = 41.0\n",
      "41\t-1 = 40\n",
      "40\t/2 = 20.0\n",
      "20\t/2 = 10.0\n",
      "10\t-1 = 9\n",
      "9\t/3 = 3.0\n",
      "3\t/3 = 1.0\n",
      "Wall time: 52 ms\n"
     ]
    }
   ],
   "source": [
    "%%time\n",
    "x = {1:0}\n",
    "y = {1:[1,'1']}\n",
    "n = 10000\n",
    "for i in range(1,n,1000):\n",
    "    find1(i,x,y)\n",
    "\n",
    "print(n)   \n",
    "min_num = find1(n,x,y)\n",
    "print(min_num,'\\n')\n",
    "\n",
    "z = y[n]\n",
    "print(z[1])\n",
    "while(z[0]!=1):\n",
    "    z = y[z[0]]\n",
    "    print(z[1])"
   ]
  },
  {
   "cell_type": "code",
   "execution_count": 3,
   "metadata": {},
   "outputs": [
    {
     "name": "stdout",
     "output_type": "stream",
     "text": [
      "14\n",
      "10000 -1 /3 /3 -1 /3 -1 /3 /3 -1 /2 /2 -1 /3 /3 = 1\n",
      "Wall time: 62.4 ms\n"
     ]
    }
   ],
   "source": [
    "%%time\n",
    "x = {1:0}\n",
    "y = {1:'= 1'}\n",
    "n = 10000\n",
    "\n",
    "for i in range(1,n+1):\n",
    "    if i == 1:\n",
    "        x[i] = 0\n",
    "        continue\n",
    "        \n",
    "    x[i] = x[i-1]+1\n",
    "    y[i] = '-1 {}'.format(y[i-1])\n",
    "    \n",
    "    if i%2 == 0:\n",
    "        z = x[i/2]+1\n",
    "        if z < x[i] :\n",
    "            x[i] = z\n",
    "            y[i] = '/2 {}'.format(y[i/2])\n",
    "            \n",
    "    if i%3 == 0 :\n",
    "        z = x[i/3]+1\n",
    "        if z < x[i] :\n",
    "            x[i] = z\n",
    "            y[i] = '/3 {}'.format(y[i/3])        \n",
    "            \n",
    "# for i in range(1,n+1):            \n",
    "#     print(x[i])\n",
    "#     print(i,y[i])\n",
    "print(x[n])\n",
    "print(n,y[n])"
   ]
  },
  {
   "cell_type": "code",
   "execution_count": null,
   "metadata": {},
   "outputs": [],
   "source": []
  }
 ],
 "metadata": {
  "kernelspec": {
   "display_name": "Python 3",
   "language": "python",
   "name": "python3"
  },
  "language_info": {
   "codemirror_mode": {
    "name": "ipython",
    "version": 3
   },
   "file_extension": ".py",
   "mimetype": "text/x-python",
   "name": "python",
   "nbconvert_exporter": "python",
   "pygments_lexer": "ipython3",
   "version": "3.6.5"
  }
 },
 "nbformat": 4,
 "nbformat_minor": 2
}
