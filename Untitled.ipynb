{
 "cells": [
  {
   "cell_type": "code",
   "execution_count": 1,
   "metadata": {},
   "outputs": [],
   "source": [
    "def coinChange(self, coins, amount):\n",
    "    if len(coins) == 0:\n",
    "        return -1\n",
    "    if amount == 0:\n",
    "        return 0\n",
    "    \n",
    "    # try biggest coins first\n",
    "    sortedCoins = sorted(coins, reverse=True)\n",
    "\n",
    "    # upper bound on number of coins (+1 to represent the impossible case)\n",
    "    upperBound = (amount + sortedCoins[-1] - 1) / sortedCoins[-1] + 1\n",
    "\n",
    "    self.bestNCoins = upperBound\n",
    "    \n",
    "    self.branchAndBoundSearch(sortedCoins, amount, 0)\n",
    "\n",
    "    if self.bestNCoins == upperBound:\n",
    "        return -1\n",
    "    else:\n",
    "        return self.bestNCoins\n",
    "\n",
    "def branchAndBoundSearch(self, sortedCoins, amount, nCoins):\n",
    "    # lower bound on number of coins, achieved using the biggest coin\n",
    "    lowerBound = nCoins + (amount + sortedCoins[0] - 1) / sortedCoins[0]\n",
    "\n",
    "    if lowerBound > self.bestNCoins:\n",
    "        return\n",
    "    \n",
    "    if len(sortedCoins) == 0:\n",
    "        return\n",
    "    \n",
    "    # if amount matches the biggest coin, that is the solution\n",
    "    if amount == sortedCoins[0] and nCoins + 1 < self.bestNCoins:\n",
    "        self.bestNCoins = nCoins + 1\n",
    "        return\n",
    "    \n",
    "    # try use the biggest coin\n",
    "    if amount > sortedCoins[0]:\n",
    "        self.branchAndBoundSearch(sortedCoins, amount - sortedCoins[0], nCoins + 1)\n",
    "    \n",
    "    # else try not to use the biggest coin\n",
    "    if len(sortedCoins) > 1:\n",
    "        self.branchAndBoundSearch(sortedCoins[1:], amount, nCoins)"
   ]
  },
  {
   "cell_type": "code",
   "execution_count": null,
   "metadata": {},
   "outputs": [],
   "source": []
  }
 ],
 "metadata": {
  "kernelspec": {
   "display_name": "Python 3",
   "language": "python",
   "name": "python3"
  },
  "language_info": {
   "codemirror_mode": {
    "name": "ipython",
    "version": 3
   },
   "file_extension": ".py",
   "mimetype": "text/x-python",
   "name": "python",
   "nbconvert_exporter": "python",
   "pygments_lexer": "ipython3",
   "version": "3.6.5"
  }
 },
 "nbformat": 4,
 "nbformat_minor": 2
}
